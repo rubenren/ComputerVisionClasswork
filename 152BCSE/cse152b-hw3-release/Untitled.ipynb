{
 "cells": [
  {
   "cell_type": "code",
   "execution_count": 1,
   "metadata": {},
   "outputs": [],
   "source": [
    "import numpy as np"
   ]
  },
  {
   "cell_type": "code",
   "execution_count": 21,
   "metadata": {},
   "outputs": [],
   "source": [
    "basicAcc = np.load('Segmentation/checkpoints/unet_original_zq/accuracy_181.npy')\n",
    "dilatAcc = np.load('Segmentation/checkpoints/unet_original_zq_dilation_dilation/accuracy_180.npy')\n",
    "sppAcc = np.load('Segmentation/checkpoints/unet_original_zq_spp_spp/accuracy_180.npy')"
   ]
  },
  {
   "cell_type": "code",
   "execution_count": 22,
   "metadata": {},
   "outputs": [
    {
     "name": "stdout",
     "output_type": "stream",
     "text": [
      "basicUNet \t Dilated \t Spp\n",
      "------------------------------------------\n",
      "88.106384 \t 87.774246 \t 88.036362\n",
      "66.305237 \t 66.348122 \t 66.125839\n",
      "40.663319 \t 34.125687 \t 30.405491\n",
      "57.904991 \t 59.244862 \t 69.135254\n",
      "45.258808 \t 42.381371 \t 47.716576\n",
      "48.129425 \t 50.480301 \t 53.731426\n",
      "67.878807 \t 67.870262 \t 73.978226\n",
      "67.350365 \t 63.897339 \t 70.683563\n",
      "65.561241 \t 65.073906 \t 74.273849\n",
      "17.737160 \t 15.437945 \t 14.532552\n",
      "49.410801 \t 45.736931 \t 56.554089\n",
      "38.107018 \t 37.876308 \t 45.182022\n",
      "56.010078 \t 56.395958 \t 65.660484\n",
      "46.859402 \t 44.918949 \t 55.561947\n",
      "61.709621 \t 60.111530 \t 66.101212\n",
      "74.859756 \t 72.680573 \t 74.029526\n",
      "38.114151 \t 38.321545 \t 38.681618\n",
      "55.123032 \t 57.128059 \t 69.859398\n",
      "34.199799 \t 31.129498 \t 38.515923\n",
      "44.977238 \t 48.122646 \t 50.597332\n",
      "0.000000 \t 0.000000 \t 0.000000\n",
      "------------------------------------------\n",
      "50.679367 \t 49.764572 \t 54.731556 \t <- Averages\n"
     ]
    }
   ],
   "source": [
    "print(\"basicUNet \\t Dilated \\t Spp\")\n",
    "print(\"------------------------------------------\")\n",
    "for i in range(21):\n",
    "    print(\"%f \\t %f \\t %f\"%(basicAcc[i], dilatAcc[i], sppAcc[i]))\n",
    "print(\"------------------------------------------\")\n",
    "print(\"%f \\t %f \\t %f \\t <- Averages\"%(basicAcc.mean(), dilatAcc.mean(), sppAcc.mean()))"
   ]
  },
  {
   "cell_type": "raw",
   "metadata": {},
   "source": [
    "python test.py --experiment checkpoints/unet_original_zq_spp --isSpp --modelRoot ../modelsOrSomething/unet_checkpoints/unet_original_zq --epochId 180\n",
    "\n",
    "python test.py --experiment checkpoints/unet_original_zq_dilation --isDilation --modelRoot ../modelsOrSomething/unet_checkpoints/unet_original_zq --epochId 180\n",
    "\n",
    "python test.py --experiment checkpoints/unet_original_zq --modelRoot ..\\modelsOrSomething\\unet_checkpoints\\unet_original_zq\\ --epochId 181"
   ]
  },
  {
   "cell_type": "code",
   "execution_count": null,
   "metadata": {},
   "outputs": [],
   "source": []
  }
 ],
 "metadata": {
  "kernelspec": {
   "display_name": "Python 3",
   "language": "python",
   "name": "python3"
  },
  "language_info": {
   "codemirror_mode": {
    "name": "ipython",
    "version": 3
   },
   "file_extension": ".py",
   "mimetype": "text/x-python",
   "name": "python",
   "nbconvert_exporter": "python",
   "pygments_lexer": "ipython3",
   "version": "3.7.4"
  }
 },
 "nbformat": 4,
 "nbformat_minor": 2
}
