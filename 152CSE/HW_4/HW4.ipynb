{
 "cells": [
  {
   "cell_type": "markdown",
   "metadata": {},
   "source": [
    "# CSE 152: Intro to Computer Vision - Winter 2020 Assignment 4\n",
    "## Instructor: David Kriegman\n",
    "### Assignment published on Thursday, March 5, 2020\n",
    "### Due on Wednesday, March 18, 2020 at 11:59pm\n",
    "\n",
    "## Instructions\n",
    "* This assignment must be completed individually. Review the academic integrity and collaboration policies on the course website.\n",
    "* All solutions should be written in this notebook. Show your work for written questions.\n",
    "* If you want to modify the skeleton code, you may do so. It has been merely been provided as a framework for your solution.\n",
    "* You may use Python packages for basic linear algebra (e.g. NumPy or SciPy for basic operations), but you may not use packages that directly solve the problem. If you are unsure about using a specific package or function, ask the instructor and/or teaching assistants for clarification.\n",
    "* You must submit this notebook exported as a PDF. You must also submit this notebook as an `.ipynb` file. Submit both files (`.pdf` and `.ipynb`) on Gradescope. **You must mark the PDF pages associated with each question in Gradescope. If you fail to do so, we may dock points.**\n",
    "* It is highly recommended that you begin working on this assignment early.\n",
    "* **Late policy:** a penalty of 10% per day after the due date.\n",
    "\n",
    "---"
   ]
  },
  {
   "cell_type": "markdown",
   "metadata": {},
   "source": [
    "## Problem 1: Machine Learning [15 pts]\n",
    "\n",
    "In this problem, you will implement K-Nearest Neighbors (KNN) algorithm for computer vision problems."
   ]
  },
  {
   "cell_type": "markdown",
   "metadata": {},
   "source": [
    "### Part 1: Data preparation [1 pts]\n",
    "\n",
    "Download the MNIST data from http://yann.lecun.com/exdb/mnist/.\n",
    "\n",
    "Download the 4 zipped files, extract them into one folder, and change the variable 'path' in the code below. (Code taken from https://gist.github.com/akesling/5358964 )\n",
    "\n",
    "Plot one random example image corresponding to each label from the training data."
   ]
  },
  {
   "cell_type": "code",
   "execution_count": 1,
   "metadata": {},
   "outputs": [],
   "source": [
    "import os\n",
    "import struct\n",
    "import numpy as np\n",
    "\n",
    "# Change path as required\n",
    "path = \"./data/\"\n",
    "\n",
    "def read(dataset=\"training\", datatype='images'):\n",
    "    \"\"\"\n",
    "    Python function for importing the MNIST data set.  It returns an iterator\n",
    "    of 2-tuples with the first element being the label and the second element\n",
    "    being a numpy.uint8 2D array of pixel data for the given image.\n",
    "    \"\"\"\n",
    "\n",
    "    if dataset is \"training\":\n",
    "        fname_img = os.path.join(path, 'train-images.idx3-ubyte')\n",
    "        fname_lbl = os.path.join(path, 'train-labels.idx1-ubyte')\n",
    "    elif dataset is \"testing\":\n",
    "        fname_img = os.path.join(path, 't10k-images.idx3-ubyte')\n",
    "        fname_lbl = os.path.join(path, 't10k-labels.idx1-ubyte')\n",
    "\n",
    "    # Load everything in some numpy arrays\n",
    "    with open(fname_lbl, 'rb') as flbl:\n",
    "        magic, num = struct.unpack(\">II\", flbl.read(8))\n",
    "        lbl = np.fromfile(flbl, dtype=np.int8)\n",
    "\n",
    "    with open(fname_img, 'rb') as fimg:\n",
    "        magic, num, rows, cols = struct.unpack(\">IIII\", fimg.read(16))\n",
    "        img = np.fromfile(fimg, dtype=np.uint8).reshape(len(lbl), rows, cols)\n",
    "    \n",
    "    if(datatype=='images'):\n",
    "        get_data = lambda idx: img[idx]\n",
    "    elif(datatype=='labels'):\n",
    "        get_data = lambda idx: lbl[idx]\n",
    "\n",
    "    # Create an iterator which returns each image in turn\n",
    "    for i in range(len(lbl)):\n",
    "        yield get_data(i)\n",
    "        \n",
    "trainData=np.array(list(read('training','images')))\n",
    "trainLabels=np.array(list(read('training','labels')))\n",
    "testData=np.array(list(read('testing','images')))\n",
    "testLabels=np.array(list(read('testing','labels')))"
   ]
  },
  {
   "cell_type": "markdown",
   "metadata": {},
   "source": [
    "Some helper functions are given below."
   ]
  },
  {
   "cell_type": "code",
   "execution_count": 19,
   "metadata": {},
   "outputs": [
    {
     "name": "stdout",
     "output_type": "stream",
     "text": [
      "Random classifier accuracy: 10.090000 \n",
      "\n",
      "Plot random training images for each class:\n"
     ]
    },
    {
     "data": {
      "image/png": "[encoded data removed]",
      "text/plain": [
       "<Figure size 432x288 with 10 Axes>"
      ]
     },
     "metadata": {
      "needs_background": "light"
     },
     "output_type": "display_data"
    }
   ],
   "source": [
    "# a generator for batches of data\n",
    "# yields data (batchsize, 3, 32, 32) and labels (batchsize)\n",
    "# if shuffle, it will load batches in a random order\n",
    "import matplotlib.pyplot as plt\n",
    "def DataBatch(data, label, batchsize, shuffle=True):\n",
    "    n = data.shape[0]\n",
    "    if shuffle:\n",
    "        index = np.random.permutation(n)\n",
    "    else:\n",
    "        index = np.arange(n)\n",
    "    for i in range(int(np.ceil(n/batchsize))):\n",
    "        inds = index[i*batchsize : min(n,(i+1)*batchsize)]\n",
    "        yield data[inds], label[inds]\n",
    "\n",
    "# tests the accuracy of a classifier\n",
    "def test(testData, testLabels, classifier):\n",
    "    batchsize=50\n",
    "    correct=0.\n",
    "    for data,label in DataBatch(testData,testLabels,batchsize,shuffle=False):\n",
    "        prediction = classifier(data)\n",
    "        correct += np.sum(prediction==label)\n",
    "    return correct/testData.shape[0]*100\n",
    "\n",
    "# a sample classifier\n",
    "# given an input it outputs a random class\n",
    "class RandomClassifier():\n",
    "    def __init__(self, classes=10):\n",
    "        self.classes=classes\n",
    "    def __call__(self, x):\n",
    "        return np.random.randint(self.classes, size=x.shape[0])\n",
    "\n",
    "randomClassifier = RandomClassifier()\n",
    "print('Random classifier accuracy: %f \\n' % \n",
    "      test(testData, testLabels, randomClassifier))\n",
    "\n",
    "print('Plot random training images for each class:')\n",
    "count = 0\n",
    "check = np.zeros(10)\n",
    "imgs = np.zeros((10, 28, 28))\n",
    "for img, lb in DataBatch(trainData, trainLabels, 1, shuffle=True):\n",
    "    img = np.squeeze(img)\n",
    "    if check[lb] == 1:\n",
    "        continue\n",
    "    else:\n",
    "        check[lb] += 1\n",
    "        count += 1\n",
    "        imgs[lb,:,:] = img\n",
    "    if count == 10:\n",
    "        break\n",
    "\n",
    "fig, ax = plt.subplots(nrows=2, ncols=5)\n",
    "i = 0\n",
    "for row in ax:\n",
    "    for col in row:\n",
    "        col.imshow(imgs[i,:,:])\n",
    "        i += 1\n",
    "\n",
    "plt.show()"
   ]
  },
  {
   "cell_type": "markdown",
   "metadata": {},
   "source": [
    "### Part 2: Confusion Matrix [3 pts]\n",
    "Here you will implement a function that computes the confusion matrix for a classifier.\n",
    "The matrix (M) should be nxn where n is the number of classes.\n",
    "Entry M[i,j] should contain the fraction of images of class i that were classified as class j."
   ]
  },
  {
   "cell_type": "code",
   "execution_count": 3,
   "metadata": {},
   "outputs": [
    {
     "data": {
      "image/png": "[encoded data removed]",
      "text/plain": [
       "<Figure size 1008x432 with 1 Axes>"
      ]
     },
     "metadata": {
      "needs_background": "light"
     },
     "output_type": "display_data"
    },
    {
     "name": "stdout",
     "output_type": "stream",
     "text": [
      "[[0.11 0.1  0.1  0.1  0.09 0.07 0.1  0.12 0.09 0.11]\n",
      " [0.1  0.11 0.12 0.08 0.08 0.09 0.12 0.11 0.1  0.12]\n",
      " [0.11 0.12 0.11 0.1  0.09 0.09 0.08 0.11 0.1  0.09]\n",
      " [0.08 0.12 0.11 0.1  0.1  0.08 0.1  0.11 0.1  0.12]\n",
      " [0.1  0.12 0.09 0.1  0.1  0.1  0.1  0.12 0.09 0.1 ]\n",
      " [0.11 0.13 0.1  0.12 0.1  0.08 0.1  0.11 0.1  0.09]\n",
      " [0.11 0.1  0.09 0.09 0.09 0.09 0.1  0.11 0.1  0.1 ]\n",
      " [0.1  0.11 0.1  0.1  0.11 0.08 0.09 0.09 0.09 0.09]\n",
      " [0.1  0.12 0.1  0.09 0.1  0.08 0.11 0.08 0.11 0.11]\n",
      " [0.08 0.1  0.11 0.11 0.1  0.09 0.1  0.11 0.09 0.09]]\n"
     ]
    }
   ],
   "source": [
    "# Using the tqdm module to visualize run time is suggested\n",
    "from tqdm import tqdm\n",
    "import time\n",
    "\n",
    "# It would be a good idea to return the accuracy, along with the confusion \n",
    "# matrix, since both can be calculated in one iteration over test data, to \n",
    "# save time\n",
    "def Confusion(testData, testLabels, classifier):\n",
    "    '''\n",
    "    Your code here\n",
    "    '''\n",
    "    \n",
    "    prediction = classifier(testData)\n",
    "    \n",
    "    correct = np.sum(prediction == testLabels)\n",
    "    \n",
    "    accuracy = correct / len(prediction)\n",
    "    \n",
    "    M = np.zeros((10,10))\n",
    "    \n",
    "    for label, ground in zip(prediction, testLabels):\n",
    "        M[label][ground] += 1\n",
    "    \n",
    "    M = M / np.sum(M, axis=1)\n",
    "\n",
    "    return M, accuracy\n",
    "\n",
    "def VisualizeConfusion(M):\n",
    "    plt.figure(figsize=(14, 6))\n",
    "    plt.imshow(M)\n",
    "    plt.show()\n",
    "    print(np.round(M,2))\n",
    "    \n",
    "M, _ = Confusion(testData, testLabels, randomClassifier)\n",
    "VisualizeConfusion(M)"
   ]
  },
  {
   "cell_type": "markdown",
   "metadata": {},
   "source": [
    "### Part 3: K-Nearest Neighbors (KNN) [6 pts]\n",
    "\n",
    "* Here you will implement a simple knn classifier. The distance metric is Euclidean in pixel space. k refers to the number of neighbors involved in voting on the class, and should be 3. You are allowed to use sklearn.neighbors.KNeighborsClassifier.\n",
    "* Display the confusion matrix and accuracy for your KNN classifier trained on the entire training dataset. (should be ~97%)\n",
    "* After evaluating the classifier on the test set, based on the confusion matrix, mention the number that the number '7' is most often predicted to be, other than '7'. Write your comment below."
   ]
  },
  {
   "cell_type": "code",
   "execution_count": 4,
   "metadata": {},
   "outputs": [
    {
     "name": "stdout",
     "output_type": "stream",
     "text": [
      "KNN classifier accuracy: 64.760000\n"
     ]
    }
   ],
   "source": [
    "from sklearn.neighbors import KNeighborsClassifier\n",
    "import numpy as np\n",
    "import matplotlib.pyplot as plt\n",
    "class KNNClassifer():\n",
    "    def __init__(self, k=3):\n",
    "        # k is the number of neighbors involved in voting\n",
    "        '''\n",
    "        your code here\n",
    "        '''\n",
    "        self.classifier = KNeighborsClassifier(n_neighbors=k)\n",
    "\n",
    "    def train(self, trainData, trainLabels):\n",
    "        '''\n",
    "        your code here\n",
    "        '''\n",
    "        self.classifier.fit(trainData.reshape((trainData.shape[0], 784)), trainLabels)\n",
    "        \n",
    "    def __call__(self, x):\n",
    "        # this method should take a batch of images\n",
    "        # and return a batch of predictions\n",
    "        '''\n",
    "        your code here\n",
    "        '''\n",
    "        return self.classifier.predict(x.reshape((x.shape[0], 784)))\n",
    "\n",
    "# test your classifier with only the first 100 training examples (use this\n",
    "# while debugging)\n",
    "# note you should get ~ 65 % accuracy\n",
    "knnClassiferX = KNNClassifer()\n",
    "knnClassiferX.train(trainData[:100], trainLabels[:100])\n",
    "print ('KNN classifier accuracy: %f'%test(testData, testLabels, knnClassiferX))"
   ]
  },
  {
   "cell_type": "code",
   "execution_count": 5,
   "metadata": {},
   "outputs": [
    {
     "data": {
      "image/png": "[encoded data removed]",
      "text/plain": [
       "<Figure size 1008x432 with 1 Axes>"
      ]
     },
     "metadata": {
      "needs_background": "light"
     },
     "output_type": "display_data"
    },
    {
     "name": "stdout",
     "output_type": "stream",
     "text": [
      "[[0.97 0.   0.01 0.   0.   0.01 0.01 0.   0.01 0.  ]\n",
      " [0.   0.96 0.01 0.   0.01 0.   0.   0.02 0.   0.  ]\n",
      " [0.   0.   0.98 0.   0.   0.   0.   0.   0.   0.  ]\n",
      " [0.   0.   0.   0.96 0.   0.01 0.   0.   0.02 0.01]\n",
      " [0.   0.   0.   0.   0.98 0.   0.   0.   0.01 0.01]\n",
      " [0.   0.   0.   0.01 0.   0.97 0.   0.   0.01 0.  ]\n",
      " [0.   0.   0.   0.   0.   0.01 0.98 0.   0.   0.  ]\n",
      " [0.   0.   0.01 0.01 0.   0.   0.   0.96 0.   0.01]\n",
      " [0.   0.   0.   0.   0.   0.   0.   0.   0.99 0.  ]\n",
      " [0.   0.   0.   0.   0.02 0.   0.   0.01 0.   0.96]]\n",
      "KNN classifier training acc: 0.970400\n"
     ]
    }
   ],
   "source": [
    "# test your classifier trained with all the training examples (This may take a while)\n",
    "knnClassifer = KNNClassifer()\n",
    "knnClassifer.train(trainData[:-1], trainLabels[:-1])\n",
    "\n",
    "# display confusion matrix and testing accuracy for your KNN classifier trained with all the training examples\n",
    "M, acc = Confusion(testData, testLabels, knnClassifer)\n",
    "VisualizeConfusion(M)\n",
    "print('KNN classifier training acc: %f'%acc)"
   ]
  },
  {
   "cell_type": "markdown",
   "metadata": {},
   "source": [
    "### Comment:\n",
    "Ans: 9"
   ]
  },
  {
   "cell_type": "markdown",
   "metadata": {},
   "source": [
    "#### 3.1 : Testing performance with different number of Neighbors\n",
    "Plot the overall accuracy of the classifier for k = [1,3,5,7,15]. Comment on your results. Choose the value of k that you feel is the best and use this value for the next question."
   ]
  },
  {
   "cell_type": "code",
   "execution_count": 6,
   "metadata": {},
   "outputs": [
    {
     "name": "stderr",
     "output_type": "stream",
     "text": [
      "100%|███████████████████████████████████████████████████████████████████████████████████| 5/5 [51:03<00:00, 612.78s/it]\n"
     ]
    },
    {
     "data": {
      "text/plain": [
       "[<matplotlib.lines.Line2D at 0x12b5be89d88>]"
      ]
     },
     "execution_count": 6,
     "metadata": {},
     "output_type": "execute_result"
    },
    {
     "data": {
      "image/png": "[encoded data removed]",
      "text/plain": [
       "<Figure size 432x288 with 1 Axes>"
      ]
     },
     "metadata": {
      "needs_background": "light"
     },
     "output_type": "display_data"
    }
   ],
   "source": [
    "'''\n",
    "Your code to plot the accuracy \n",
    "for a variable number of nearest neighbours.\n",
    "'''\n",
    "tempList = []\n",
    "ks = [1,3,5,7,15]\n",
    "for i in tqdm(ks):\n",
    "    knnClassifier = KNNClassifer(i)\n",
    "    knnClassifier.train(trainData[:-1], trainLabels[:-1])\n",
    "    _, acc = Confusion(testData, testLabels, knnClassifier)\n",
    "    tempList.append(acc)\n",
    "\n",
    "plt.plot(ks,tempList)"
   ]
  },
  {
   "cell_type": "markdown",
   "metadata": {},
   "source": [
    "### Part 4: Principal Component Analysis (PCA) K-Nearest Neighbors (KNN) [5 pts]\n",
    "Here you will implement a simple KNN classifer in PCA space (for k= the value you found best, and a variable number of principal components).\n",
    "You are allowed to use sklearn.decomposition.PCA or any other package that directly implements PCA transformations. For more information refer https://scikit-learn.org/stable/modules/generated/sklearn.decomposition.PCA.html\n",
    "\n",
    "Is the testing time for PCA KNN classifier more or less than that for KNN classifier? Comment on why it differs if it does.\n",
    "\n",
    "Ans: yes it is faster to run pca knn, it differs because PCA reduces the amount of data, which allows for faster runtimes."
   ]
  },
  {
   "cell_type": "code",
   "execution_count": 7,
   "metadata": {},
   "outputs": [
    {
     "name": "stdout",
     "output_type": "stream",
     "text": [
      "KNN classifier accuracy: 66.130000\n"
     ]
    }
   ],
   "source": [
    "from sklearn.decomposition import PCA\n",
    "class PCAKNNClassifer():\n",
    "    def __init__(self, components=25, k= 3):\n",
    "        # components = number of principal components\n",
    "        # k is the number of neighbors involved in voting\n",
    "        \"\"\" ==========\n",
    "        YOUR CODE HERE\n",
    "        ========== \"\"\"\n",
    "        self.pca = PCA(components)\n",
    "        self.knn = KNeighborsClassifier(k)\n",
    "        \n",
    "    def train(self, trainData, trainLabels):\n",
    "        \"\"\" ==========\n",
    "        YOUR CODE HERE\n",
    "        ========== \"\"\"\n",
    "        '''\n",
    "        For optimal results make sure your training data has 0 mean\n",
    "        by computing the mean of the training vectors and subtracting \n",
    "        the mean vector from each of the samples. (Very similar to the procedure\n",
    "        you followed in the template matching problem. (HW1 Q 3.3))\n",
    "        '''\n",
    "        trainData = trainData.reshape((trainData.shape[0], -1))\n",
    "        self.mean = np.mean(trainData, axis=0)\n",
    "        trainData = trainData - self.mean\n",
    "        \n",
    "        \n",
    "        self.pca = self.pca.fit(trainData)\n",
    "        \n",
    "        \n",
    "        trainData = self.pca.transform(X=trainData)\n",
    "        \n",
    "        self.knn.fit(trainData, trainLabels)\n",
    "        \n",
    "    def __call__(self, x):\n",
    "        # this method should take a batch of images\n",
    "        # and return a batch of predictions\n",
    "        \"\"\" ==========\n",
    "        YOUR CODE HERE\n",
    "        ========== \"\"\"\n",
    "        '''\n",
    "        If you have centered your training data by subtracting the mean\n",
    "        make sure you subtract the same mean from your test data as well.\n",
    "        '''\n",
    "        x = x.reshape((x.shape[0], 784)) - self.mean\n",
    "        x = self.pca.transform(x)\n",
    "        \n",
    "        return self.knn.predict(x)\n",
    "        \n",
    "\n",
    "\n",
    "\n",
    "# test your classifier with only the first 100 training examples (use this\n",
    "# while debugging)\n",
    "pcaknnClassiferX = PCAKNNClassifer()\n",
    "pcaknnClassiferX.train(trainData[:100], trainLabels[:100])\n",
    "print ('KNN classifier accuracy: %f'%test(testData, testLabels, pcaknnClassiferX))"
   ]
  },
  {
   "cell_type": "code",
   "execution_count": 8,
   "metadata": {},
   "outputs": [],
   "source": [
    "# test your classifier with all the training examples\n",
    "pcaknnClassifer = PCAKNNClassifer()\n",
    "pcaknnClassifer.train(trainData, trainLabels)"
   ]
  },
  {
   "cell_type": "code",
   "execution_count": 9,
   "metadata": {},
   "outputs": [
    {
     "data": {
      "image/png": "[encoded data removed]",
      "text/plain": [
       "<Figure size 1008x432 with 1 Axes>"
      ]
     },
     "metadata": {
      "needs_background": "light"
     },
     "output_type": "display_data"
    },
    {
     "name": "stdout",
     "output_type": "stream",
     "text": [
      "[[0.98 0.   0.   0.   0.   0.01 0.   0.   0.   0.  ]\n",
      " [0.   0.97 0.   0.   0.   0.   0.   0.02 0.   0.01]\n",
      " [0.   0.   0.97 0.   0.   0.   0.   0.01 0.   0.  ]\n",
      " [0.   0.   0.   0.97 0.   0.01 0.   0.   0.02 0.01]\n",
      " [0.   0.   0.   0.   0.98 0.   0.   0.   0.   0.01]\n",
      " [0.   0.   0.   0.01 0.   0.97 0.   0.   0.01 0.  ]\n",
      " [0.   0.   0.   0.   0.   0.01 0.98 0.   0.   0.  ]\n",
      " [0.   0.   0.01 0.01 0.   0.   0.   0.97 0.   0.  ]\n",
      " [0.   0.   0.   0.01 0.   0.   0.   0.   0.98 0.  ]\n",
      " [0.   0.   0.   0.   0.03 0.   0.   0.01 0.   0.96]]\n",
      "pcaknn acc: 0.973200\n"
     ]
    }
   ],
   "source": [
    "# display confusion matrix for your PCA KNN classifier with all the training examples\n",
    "\"\"\" ==========\n",
    "YOUR CODE HERE\n",
    "========== \"\"\"\n",
    "M, acc = Confusion(testData, testLabels, pcaknnClassifer)\n",
    "VisualizeConfusion(M)\n",
    "print('pcaknn acc: %f' %acc)"
   ]
  },
  {
   "cell_type": "markdown",
   "metadata": {},
   "source": [
    "#### 4.1 : Testing performance with different number of PCA components.\n",
    "Plot the overall classification accuracy and display the confusion matrix for k = value chosen by you, and principal components = [1 , 10 , 25, 50]. For Principal components = 25, output the sensitivity and specificity of the classifier for digit 0. (Please look up the terms sensitivity and specificity for details on their formulas.) Comment on your results for sensitivity and specificity by mentioning the meaning of these terms. Suppose the classifier is used to detect 0's but it turns out that processing 0's is very expensive and hence a digit should be classified as 0 only if we are very sure. Which term (sensitivity or specificity) should we focus on optimizing?  \n",
    "Reference : https://en.wikipedia.org/wiki/Sensitivity_and_specificity\n"
   ]
  },
  {
   "cell_type": "code",
   "execution_count": 10,
   "metadata": {
    "scrolled": false
   },
   "outputs": [
    {
     "name": "stdout",
     "output_type": "stream",
     "text": [
      "pcaknn components=1 k=3:\n",
      "acc: 0.269500\n"
     ]
    },
    {
     "data": {
      "image/png": "[encoded data removed]",
      "text/plain": [
       "<Figure size 1008x432 with 1 Axes>"
      ]
     },
     "metadata": {
      "needs_background": "light"
     },
     "output_type": "display_data"
    },
    {
     "name": "stdout",
     "output_type": "stream",
     "text": [
      "[[0.45 0.   0.08 0.09 0.06 0.22 0.42 0.06 0.37 0.19]\n",
      " [0.   0.75 0.01 0.01 0.05 0.03 0.03 0.21 0.06 0.24]\n",
      " [0.05 0.01 0.13 0.17 0.22 0.32 0.41 0.35 0.75 0.72]\n",
      " [0.03 0.01 0.09 0.14 0.19 0.26 0.31 0.3  0.63 0.62]\n",
      " [0.02 0.02 0.07 0.07 0.13 0.14 0.18 0.27 0.46 0.44]\n",
      " [0.02 0.01 0.04 0.05 0.07 0.11 0.13 0.14 0.25 0.29]\n",
      " [0.02 0.   0.04 0.04 0.07 0.08 0.12 0.1  0.22 0.14]\n",
      " [0.   0.03 0.03 0.03 0.06 0.08 0.09 0.2  0.21 0.26]\n",
      " [0.01 0.   0.01 0.02 0.05 0.05 0.08 0.05 0.09 0.16]\n",
      " [0.   0.01 0.02 0.02 0.03 0.03 0.04 0.1  0.13 0.16]]\n",
      "pcaknn components=10 k=3:\n",
      "acc: 0.924500\n"
     ]
    },
    {
     "data": {
      "image/png": "[encoded data removed]",
      "text/plain": [
       "<Figure size 1008x432 with 1 Axes>"
      ]
     },
     "metadata": {
      "needs_background": "light"
     },
     "output_type": "display_data"
    },
    {
     "name": "stdout",
     "output_type": "stream",
     "text": [
      "[[0.94 0.   0.01 0.   0.   0.02 0.01 0.   0.01 0.01]\n",
      " [0.   0.97 0.   0.01 0.   0.   0.01 0.02 0.   0.01]\n",
      " [0.   0.   0.94 0.01 0.   0.01 0.01 0.02 0.02 0.  ]\n",
      " [0.   0.   0.   0.92 0.   0.03 0.   0.   0.03 0.01]\n",
      " [0.   0.   0.   0.   0.9  0.01 0.01 0.01 0.01 0.06]\n",
      " [0.   0.   0.   0.02 0.   0.92 0.01 0.   0.03 0.01]\n",
      " [0.01 0.   0.01 0.   0.01 0.   0.96 0.   0.   0.  ]\n",
      " [0.   0.   0.01 0.01 0.01 0.   0.   0.96 0.   0.01]\n",
      " [0.   0.   0.01 0.06 0.   0.02 0.   0.   0.89 0.01]\n",
      " [0.   0.   0.   0.01 0.08 0.01 0.   0.03 0.02 0.86]]\n",
      "pcaknn components=25 k=3:\n",
      "sensitivity of 0: 0.979859\n",
      "specificity of 0: 0.972085\n",
      "acc: 0.973200\n"
     ]
    },
    {
     "data": {
      "image/png": "[encoded data removed]",
      "text/plain": [
       "<Figure size 1008x432 with 1 Axes>"
      ]
     },
     "metadata": {
      "needs_background": "light"
     },
     "output_type": "display_data"
    },
    {
     "name": "stdout",
     "output_type": "stream",
     "text": [
      "[[0.98 0.   0.   0.   0.   0.01 0.   0.   0.   0.  ]\n",
      " [0.   0.97 0.   0.   0.   0.   0.   0.02 0.   0.01]\n",
      " [0.   0.   0.97 0.   0.   0.   0.   0.01 0.   0.  ]\n",
      " [0.   0.   0.   0.97 0.   0.01 0.   0.   0.02 0.01]\n",
      " [0.   0.   0.   0.   0.98 0.   0.   0.   0.   0.01]\n",
      " [0.   0.   0.   0.01 0.   0.97 0.   0.   0.01 0.  ]\n",
      " [0.   0.   0.   0.   0.   0.01 0.98 0.   0.   0.  ]\n",
      " [0.   0.   0.01 0.01 0.   0.   0.   0.97 0.   0.  ]\n",
      " [0.   0.   0.   0.01 0.   0.   0.   0.   0.98 0.  ]\n",
      " [0.   0.   0.   0.   0.03 0.   0.   0.01 0.   0.96]]\n",
      "pcaknn components=50 k=3:\n",
      "acc: 0.975100\n"
     ]
    },
    {
     "data": {
      "image/png": "[encoded data removed]",
      "text/plain": [
       "<Figure size 1008x432 with 1 Axes>"
      ]
     },
     "metadata": {
      "needs_background": "light"
     },
     "output_type": "display_data"
    },
    {
     "name": "stdout",
     "output_type": "stream",
     "text": [
      "[[0.97 0.   0.   0.   0.   0.   0.01 0.   0.01 0.01]\n",
      " [0.   0.98 0.   0.   0.   0.   0.   0.01 0.   0.  ]\n",
      " [0.   0.   0.98 0.   0.   0.   0.   0.01 0.   0.  ]\n",
      " [0.   0.   0.   0.97 0.   0.01 0.   0.   0.02 0.01]\n",
      " [0.   0.   0.   0.   0.98 0.   0.   0.   0.01 0.01]\n",
      " [0.   0.   0.   0.01 0.   0.97 0.   0.   0.01 0.  ]\n",
      " [0.   0.   0.   0.   0.   0.01 0.98 0.   0.   0.  ]\n",
      " [0.   0.   0.01 0.01 0.   0.   0.   0.97 0.   0.  ]\n",
      " [0.   0.   0.   0.01 0.   0.   0.   0.   0.98 0.  ]\n",
      " [0.   0.   0.   0.   0.02 0.   0.   0.01 0.   0.97]]\n"
     ]
    }
   ],
   "source": [
    "'''\n",
    "Your code here for the variable number of principal components\n",
    "and plotting the confusion matrix, and overall accuracy.\n",
    "MAKE SURE ALL YOUR PLOTS HAVE TITLES AND/OR MARKDOWN CELLS CLEARLY\n",
    "INDICATING WHAT EACH FIGURE CORRESPONDS TO.\n",
    "'''\n",
    "numOfCompnnts = [1,10,25,50]\n",
    "for i in (numOfCompnnts):\n",
    "    pcaknnClassifer = PCAKNNClassifer(i)\n",
    "    pcaknnClassifer.train(trainData, trainLabels)\n",
    "    M, acc = Confusion(testData, testLabels, pcaknnClassifer)\n",
    "    print('pcaknn components=%i k=3:'%i)\n",
    "    if i == 25:\n",
    "        print('sensitivity of 0: %f'%M[0][0])\n",
    "        spec = np.trace(M) - M[0][0]\n",
    "        spec = spec / np.sum(M[1:])\n",
    "        print('specificity of 0: %f'%spec)\n",
    "    print('acc: %f'%acc)\n",
    "    VisualizeConfusion(M)"
   ]
  },
  {
   "cell_type": "markdown",
   "metadata": {},
   "source": [
    "#### Comments:\n",
    "zero's true positive rate(sensitivity) is 97.9%, and the true negative(specificity) is 97.2%.\n",
    "focus on sensitivity."
   ]
  },
  {
   "cell_type": "markdown",
   "metadata": {},
   "source": [
    "## Problem 2: Deep Learning [25 pts]"
   ]
  },
  {
   "cell_type": "markdown",
   "metadata": {},
   "source": [
    "### Part 1: Initial setup [0 pts]\n",
    "\n",
    "Follow the directions on https://pytorch.org/get-started/locally/ to install PyTorch on your computer.\n",
    "\n",
    "Note: You will not need GPU support for this assignment so don't worry if you don't have one. In any case, installing with GPU support is often more difficult to configure, so it is suggested that you install the CPU-only version regardless.\n",
    "\n",
    "To ensure that PyTorch was installed correctly, we will now verify the installation by running some sample PyTorch code. Here we construct a randomly initialized tensor."
   ]
  },
  {
   "cell_type": "code",
   "execution_count": 11,
   "metadata": {},
   "outputs": [
    {
     "name": "stdout",
     "output_type": "stream",
     "text": [
      "tensor([[0.0027, 0.3587, 0.1789],\n",
      "        [0.8333, 0.2350, 0.6553],\n",
      "        [0.2700, 0.1213, 0.1568],\n",
      "        [0.8825, 0.0692, 0.0302],\n",
      "        [0.1229, 0.5016, 0.9283]])\n"
     ]
    }
   ],
   "source": [
    "from __future__ import print_function\n",
    "import torch\n",
    "x = torch.rand(5, 3)\n",
    "print(x)"
   ]
  },
  {
   "cell_type": "markdown",
   "metadata": {},
   "source": [
    "### Part 2:  Training with PyTorch [3 pts]\n",
    "Below is some helper code to train your deep networks. \n",
    "Complete the train function for PTClassifier below. You should write down the training operations in this function. This function will be used in the following questions with different networks.\n",
    "You can look at https://pytorch.org/tutorials/beginner/pytorch_with_examples.html for reference."
   ]
  },
  {
   "cell_type": "code",
   "execution_count": 12,
   "metadata": {},
   "outputs": [
    {
     "name": "stdout",
     "output_type": "stream",
     "text": [
      "Epoch:1 Accuracy: 89.020000\n",
      "Epoch:2 Accuracy: 90.760000\n",
      "Epoch:3 Accuracy: 91.360000\n",
      "Epoch:4 Accuracy: 91.560000\n",
      "Epoch:5 Accuracy: 91.850000\n",
      "Epoch:6 Accuracy: 92.090000\n",
      "Epoch:7 Accuracy: 92.200000\n",
      "Epoch:8 Accuracy: 92.230000\n",
      "Epoch:9 Accuracy: 92.410000\n",
      "Epoch:10 Accuracy: 92.360000\n",
      "Linear classifier accuracy: 92.360000\n"
     ]
    }
   ],
   "source": [
    "# base class for your PyTorch networks. It implements the training loop\n",
    "# (__init__), (train) and prediction(__call__)  for you.\n",
    "# You will need to complete the (train) function to define the training operations\n",
    "# structures in the following problems.\n",
    "import torch.nn as nn\n",
    "from torch.nn.parameter import Parameter\n",
    "import torch.nn.functional as F\n",
    "import torch.nn.init\n",
    "import torch.optim as optim\n",
    "from torch.autograd import Variable\n",
    "from tqdm import tqdm\n",
    "from scipy.stats import truncnorm\n",
    "\n",
    "class PTClassifier():\n",
    "    def __init__(self, net):\n",
    "        self.net = net()\n",
    "    \n",
    "    def train(self, trainData, trainLabels, testData, testLabels, epochs=1, batchsize=50):\n",
    "        criterion = nn.CrossEntropyLoss()\n",
    "        learning_rate=3e-4\n",
    "        optimizer = optim.Adam(self.net.parameters(),lr=learning_rate)\n",
    "        for epoch in range(epochs):\n",
    "            for i, (data,label) in enumerate(DataBatch(trainData, trainLabels, batchsize, shuffle=True)):\n",
    "                inputs = Variable(torch.FloatTensor(data))\n",
    "                targets = Variable(torch.LongTensor(label))\n",
    "\n",
    "                predictions = self.net(inputs)\n",
    "                loss = criterion(predictions, targets)\n",
    "                optimizer.zero_grad()\n",
    "                loss.backward()\n",
    "                optimizer.step()\n",
    "                \n",
    "                # YOUR CODE HERE\n",
    "                # Train the model using the optimizer and the batch data\n",
    "\n",
    "                \n",
    "            print ('Epoch:%d Accuracy: %f'%(epoch+1, test(testData, testLabels, self)))\n",
    "    \n",
    "    def __call__(self, x):\n",
    "        inputs = Variable(torch.FloatTensor(x))\n",
    "        prediction = self.net(inputs)\n",
    "        return np.argmax(prediction.data.cpu().numpy(), 1)\n",
    "    \n",
    "    def get_first_layer_weights(self):\n",
    "        return self.net.weight1.data.cpu().numpy()\n",
    "\n",
    "# helper function to get weight variable\n",
    "def weight_variable(shape):\n",
    "    initial = torch.Tensor(truncnorm.rvs(-1/0.01, 1/0.01, scale=0.01, size=shape))\n",
    "    return Parameter(initial, requires_grad=True)\n",
    "\n",
    "# helper function to get bias variable\n",
    "def bias_variable(shape):\n",
    "    initial = torch.Tensor(np.ones(shape)*0.1)\n",
    "    return Parameter(initial, requires_grad=True)\n",
    "    \n",
    "# Define Single Layer Perceptron network\n",
    "class SLP(nn.Module):\n",
    "    def __init__(self, in_features=28*28, classes=10):\n",
    "        super(SLP, self).__init__()\n",
    "        # model variables\n",
    "        self.weight1 = weight_variable((classes, in_features))\n",
    "        self.bias1 = bias_variable((classes))\n",
    "        \n",
    "    def forward(self, x):\n",
    "        # linear operation\n",
    "        y_pred = torch.addmm(self.bias1, x.view(list(x.size())[0], -1), self.weight1.t())\n",
    "        return y_pred\n",
    "        \n",
    "\n",
    "# test the example linear classifier (note you should get around 92% accuracy\n",
    "# for 10 epochs and batchsize 50)\n",
    "trainData=np.array(list(read('training','images')))\n",
    "trainData=np.float32(np.expand_dims(trainData,-1))/255\n",
    "trainData=trainData.transpose((0,3,1,2))\n",
    "trainLabels=np.int32(np.array(list(read('training','labels'))))\n",
    "\n",
    "testData=np.array(list(read('testing','images')))\n",
    "testData=np.float32(np.expand_dims(testData,-1))/255\n",
    "testData=testData.transpose((0,3,1,2))\n",
    "testLabels=np.int32(np.array(list(read('testing','labels'))))\n",
    "\n",
    "linearClassifier = PTClassifier(SLP)\n",
    "linearClassifier.train(trainData, trainLabels, testData, testLabels, epochs=10)\n",
    "print ('Linear classifier accuracy: %f'%test(testData, testLabels, linearClassifier))"
   ]
  },
  {
   "cell_type": "markdown",
   "metadata": {},
   "source": [
    "### Part 3: Single Layer Perceptron [3 pts]\n",
    "The simple linear classifier implemented in the cell already performs quite well. Plot the filter weights corresponding to each output class (weights, not biases) as images. (Normalize weights to lie between 0 and 1 and use color maps like 'inferno' or 'plasma' for good results). Comment on what the weights look like and why that may be so.\n"
   ]
  },
  {
   "cell_type": "code",
   "execution_count": 13,
   "metadata": {
    "scrolled": false
   },
   "outputs": [
    {
     "name": "stdout",
     "output_type": "stream",
     "text": [
      "(10, 784)\n",
      "showing class 0:\n"
     ]
    },
    {
     "data": {
      "image/png": "[encoded data removed]",
      "text/plain": [
       "<Figure size 432x288 with 1 Axes>"
      ]
     },
     "metadata": {
      "needs_background": "light"
     },
     "output_type": "display_data"
    },
    {
     "name": "stdout",
     "output_type": "stream",
     "text": [
      "showing class 1:\n"
     ]
    },
    {
     "data": {
      "image/png": "[encoded data removed]",
      "text/plain": [
       "<Figure size 432x288 with 1 Axes>"
      ]
     },
     "metadata": {
      "needs_background": "light"
     },
     "output_type": "display_data"
    },
    {
     "name": "stdout",
     "output_type": "stream",
     "text": [
      "showing class 2:\n"
     ]
    },
    {
     "data": {
      "image/png": "[encoded data removed]",
      "text/plain": [
       "<Figure size 432x288 with 1 Axes>"
      ]
     },
     "metadata": {
      "needs_background": "light"
     },
     "output_type": "display_data"
    },
    {
     "name": "stdout",
     "output_type": "stream",
     "text": [
      "showing class 3:\n"
     ]
    },
    {
     "data": {
      "image/png": "[encoded data removed]",
      "text/plain": [
       "<Figure size 432x288 with 1 Axes>"
      ]
     },
     "metadata": {
      "needs_background": "light"
     },
     "output_type": "display_data"
    },
    {
     "name": "stdout",
     "output_type": "stream",
     "text": [
      "showing class 4:\n"
     ]
    },
    {
     "data": {
      "image/png": "[encoded data removed]",
      "text/plain": [
       "<Figure size 432x288 with 1 Axes>"
      ]
     },
     "metadata": {
      "needs_background": "light"
     },
     "output_type": "display_data"
    },
    {
     "name": "stdout",
     "output_type": "stream",
     "text": [
      "showing class 5:\n"
     ]
    },
    {
     "data": {
      "image/png": "[encoded data removed]",
      "text/plain": [
       "<Figure size 432x288 with 1 Axes>"
      ]
     },
     "metadata": {
      "needs_background": "light"
     },
     "output_type": "display_data"
    },
    {
     "name": "stdout",
     "output_type": "stream",
     "text": [
      "showing class 6:\n"
     ]
    },
    {
     "data": {
      "image/png": "[encoded data removed]",
      "text/plain": [
       "<Figure size 432x288 with 1 Axes>"
      ]
     },
     "metadata": {
      "needs_background": "light"
     },
     "output_type": "display_data"
    },
    {
     "name": "stdout",
     "output_type": "stream",
     "text": [
      "showing class 7:\n"
     ]
    },
    {
     "data": {
      "image/png": "[encoded data removed]",
      "text/plain": [
       "<Figure size 432x288 with 1 Axes>"
      ]
     },
     "metadata": {
      "needs_background": "light"
     },
     "output_type": "display_data"
    },
    {
     "name": "stdout",
     "output_type": "stream",
     "text": [
      "showing class 8:\n"
     ]
    },
    {
     "data": {
      "image/png": "[encoded data removed]",
      "text/plain": [
       "<Figure size 432x288 with 1 Axes>"
      ]
     },
     "metadata": {
      "needs_background": "light"
     },
     "output_type": "display_data"
    },
    {
     "name": "stdout",
     "output_type": "stream",
     "text": [
      "showing class 9:\n"
     ]
    },
    {
     "data": {
      "image/png": "[encoded data removed]",
      "text/plain": [
       "<Figure size 432x288 with 1 Axes>"
      ]
     },
     "metadata": {
      "needs_background": "light"
     },
     "output_type": "display_data"
    }
   ],
   "source": [
    "# Your code here.\n",
    "print(linearClassifier.net.weight1.detach().numpy().shape)\n",
    "theInput = linearClassifier.net.weight1.detach().numpy().reshape((10,28,28)) / np.sum(linearClassifier.net.weight1.detach().numpy())\n",
    "for i in range(10):\n",
    "    print('showing class %i:'%i)\n",
    "    plt.imshow(theInput[i], cmap='inferno')\n",
    "    plt.show()\n",
    "\n",
    "\n"
   ]
  },
  {
   "cell_type": "markdown",
   "metadata": {},
   "source": [
    "### Comment\n",
    "the weights look like they somewhat resemle the labels they are representing. this is probably because it is using those areas as indications for deciding on a particular number."
   ]
  },
  {
   "cell_type": "markdown",
   "metadata": {},
   "source": [
    "### Part 4: Multi Layer Perceptron (MLP) [7 pts]\n",
    "Here you will implement an MLP. The MLP shoud consist of 2 layers (matrix multiplication and bias offset) that map to the following feature dimensions:\n",
    "\n",
    "* 28x28 -> hidden (100)\n",
    "* hidden -> classes\n",
    "\n",
    "* The hidden layer should be followed with a ReLU nonlinearity. The final layer should not have a nonlinearity applied as we desire the raw logits output.\n",
    "* The final output of the computation graph should be stored in self.y as that will be used in the training.\n",
    "\n",
    "Display the confusion matrix and accuracy after training. Note: You should get around 97% accuracy for 10 epochs and batch size 50.\n",
    "\n",
    "Plot the filter weights corresponding to the mapping from the inputs to the first 10 hidden layer outputs (out of 100). Do the weights look similar to the weights plotted in the previous problem? Why or why not?"
   ]
  },
  {
   "cell_type": "code",
   "execution_count": 14,
   "metadata": {},
   "outputs": [
    {
     "name": "stdout",
     "output_type": "stream",
     "text": [
      "Epoch:1 Accuracy: 92.000000\n",
      "Epoch:2 Accuracy: 93.610000\n",
      "Epoch:3 Accuracy: 94.730000\n",
      "Epoch:4 Accuracy: 95.280000\n",
      "Epoch:5 Accuracy: 95.950000\n",
      "Epoch:6 Accuracy: 96.300000\n",
      "Epoch:7 Accuracy: 96.490000\n",
      "Epoch:8 Accuracy: 96.910000\n",
      "Epoch:9 Accuracy: 96.810000\n",
      "Epoch:10 Accuracy: 97.140000\n"
     ]
    }
   ],
   "source": [
    "# Define Multi Layer Perceptron network\n",
    "class MLP(nn.Module):\n",
    "    def __init__(self, in_features=28*28, hidden=100, classes=10):\n",
    "        super(MLP, self).__init__()\n",
    "        '''\n",
    "        your code here\n",
    "        '''\n",
    "        self.fc1 = torch.nn.Sequential(\n",
    "            nn.Linear(in_features, hidden),\n",
    "            nn.ReLU()\n",
    "        )\n",
    "        self.weight1 = self.fc1[0].weight\n",
    "        self.fc2 = nn.Linear(hidden, classes)\n",
    "        \n",
    "    def forward(self, x):\n",
    "        '''\n",
    "        your code here\n",
    "        '''\n",
    "        x = x.view(list(x.size())[0], -1)\n",
    "        hidden = self.fc1(x)\n",
    "        self.y = self.fc2(hidden)\n",
    "        return self.y\n",
    "\n",
    "mlpClassifer = PTClassifier(MLP)\n",
    "mlpClassifer.train(trainData, trainLabels, testData, testLabels, epochs=10)"
   ]
  },
  {
   "cell_type": "code",
   "execution_count": 15,
   "metadata": {},
   "outputs": [
    {
     "data": {
      "image/png": "[encoded data removed]",
      "text/plain": [
       "<Figure size 1008x432 with 1 Axes>"
      ]
     },
     "metadata": {
      "needs_background": "light"
     },
     "output_type": "display_data"
    },
    {
     "name": "stdout",
     "output_type": "stream",
     "text": [
      "[[0.98 0.   0.   0.   0.   0.   0.01 0.   0.   0.01]\n",
      " [0.   0.98 0.   0.   0.   0.   0.   0.   0.   0.01]\n",
      " [0.   0.   0.96 0.   0.01 0.   0.   0.01 0.01 0.  ]\n",
      " [0.   0.   0.   0.96 0.   0.02 0.   0.   0.01 0.01]\n",
      " [0.   0.   0.   0.   0.96 0.   0.01 0.   0.01 0.02]\n",
      " [0.   0.   0.   0.   0.   0.97 0.01 0.   0.   0.  ]\n",
      " [0.01 0.   0.   0.   0.   0.01 0.98 0.   0.   0.  ]\n",
      " [0.   0.   0.01 0.01 0.   0.   0.   0.97 0.01 0.01]\n",
      " [0.   0.   0.   0.   0.   0.01 0.   0.   0.97 0.  ]\n",
      " [0.   0.   0.   0.   0.01 0.   0.   0.   0.   0.98]]\n",
      "nn acc: 0.971400\n"
     ]
    }
   ],
   "source": [
    "# Confusion Matrix and Accuracy\n",
    "'''\n",
    "your code here\n",
    "'''\n",
    "M, acc = Confusion(testData, testLabels, mlpClassifer)\n",
    "VisualizeConfusion(M)\n",
    "print('nn acc: %f' %acc)"
   ]
  },
  {
   "cell_type": "code",
   "execution_count": 16,
   "metadata": {
    "scrolled": false
   },
   "outputs": [
    {
     "name": "stdout",
     "output_type": "stream",
     "text": [
      "(100, 784)\n"
     ]
    },
    {
     "data": {
      "image/png": "[encoded data removed]",
      "text/plain": [
       "<Figure size 432x288 with 1 Axes>"
      ]
     },
     "metadata": {
      "needs_background": "light"
     },
     "output_type": "display_data"
    },
    {
     "data": {
      "image/png": "[encoded data removed]",
      "text/plain": [
       "<Figure size 432x288 with 1 Axes>"
      ]
     },
     "metadata": {
      "needs_background": "light"
     },
     "output_type": "display_data"
    },
    {
     "data": {
      "image/png": "[encoded data removed]",
      "text/plain": [
       "<Figure size 432x288 with 1 Axes>"
      ]
     },
     "metadata": {
      "needs_background": "light"
     },
     "output_type": "display_data"
    },
    {
     "data": {
      "image/png": "[encoded data removed]",
      "text/plain": [
       "<Figure size 432x288 with 1 Axes>"
      ]
     },
     "metadata": {
      "needs_background": "light"
     },
     "output_type": "display_data"
    },
    {
     "data": {
      "image/png": "[encoded data removed]",
      "text/plain": [
       "<Figure size 432x288 with 1 Axes>"
      ]
     },
     "metadata": {
      "needs_background": "light"
     },
     "output_type": "display_data"
    },
    {
     "data": {
      "image/png": "[encoded data removed]",
      "text/plain": [
       "<Figure size 432x288 with 1 Axes>"
      ]
     },
     "metadata": {
      "needs_background": "light"
     },
     "output_type": "display_data"
    },
    {
     "data": {
      "image/png": "[encoded data removed]",
      "text/plain": [
       "<Figure size 432x288 with 1 Axes>"
      ]
     },
     "metadata": {
      "needs_background": "light"
     },
     "output_type": "display_data"
    },
    {
     "data": {
      "image/png": "[encoded data removed]",
      "text/plain": [
       "<Figure size 432x288 with 1 Axes>"
      ]
     },
     "metadata": {
      "needs_background": "light"
     },
     "output_type": "display_data"
    },
    {
     "data": {
      "image/png": "[encoded data removed]",
      "text/plain": [
       "<Figure size 432x288 with 1 Axes>"
      ]
     },
     "metadata": {
      "needs_background": "light"
     },
     "output_type": "display_data"
    },
    {
     "data": {
      "image/png": "[encoded data removed]",
      "text/plain": [
       "<Figure size 432x288 with 1 Axes>"
      ]
     },
     "metadata": {
      "needs_background": "light"
     },
     "output_type": "display_data"
    }
   ],
   "source": [
    "# plot filter weights\n",
    "'''\n",
    "your code here\n",
    "'''\n",
    "print(mlpClassifer.get_first_layer_weights().shape)\n",
    "images = mlpClassifer.get_first_layer_weights().reshape((100,28,28))\n",
    "\n",
    "for i in range(10):\n",
    "    plt.imshow(images[i], cmap='inferno')\n",
    "    plt.show()\n"
   ]
  },
  {
   "cell_type": "markdown",
   "metadata": {},
   "source": [
    "### Comment\n",
    "they do not look too similar, probably because the representations in the hidden layer do not necessarily look for specific classes."
   ]
  },
  {
   "cell_type": "markdown",
   "metadata": {},
   "source": [
    "### Part 5: Convolutional Neural Network (CNN) [12 pts]\n",
    "Here we will implement the classic LeNET network with the following architecture:\n",
    "\n",
    "* a convolutional layer connecting the input image to 6 feature maps with 5 × 5 convolutions and followed by ReLU and maxpooling,\n",
    "* a convolutional layer connecting the 6 input channels to 16 output channels with 5 × 5 convolutions and followed by ReLU and maxpooling\n",
    "* a fully-connected layer connecting 16 feature maps to 120 output units and followed by ReLU,\n",
    "* a fully-connected layer connecting 120 inputs to 84 output units and followed by ReLU,\n",
    "* a final linear layer connecting 84 inputs to 10 linear outputs (one for each of our digits).\n",
    "\n",
    "Display the confusion matrix and accuracy after training. You should get around 98% accuracy for 10 epochs and batch size 100."
   ]
  },
  {
   "cell_type": "markdown",
   "metadata": {},
   "source": [
    "** START EARLY. RUNNING THIS CODE WILL TAKE ABOUT AN HOUR **"
   ]
  },
  {
   "cell_type": "code",
   "execution_count": 17,
   "metadata": {},
   "outputs": [
    {
     "name": "stdout",
     "output_type": "stream",
     "text": [
      "Epoch:1 Accuracy: 95.370000\n",
      "Epoch:2 Accuracy: 97.290000\n",
      "Epoch:3 Accuracy: 97.900000\n",
      "Epoch:4 Accuracy: 97.840000\n",
      "Epoch:5 Accuracy: 98.040000\n",
      "Epoch:6 Accuracy: 98.570000\n",
      "Epoch:7 Accuracy: 98.260000\n",
      "Epoch:8 Accuracy: 98.820000\n",
      "Epoch:9 Accuracy: 98.760000\n",
      "Epoch:10 Accuracy: 98.770000\n"
     ]
    }
   ],
   "source": [
    "def conv2d(x, W, stride):\n",
    "    # x: input\n",
    "    # W: weights (out, in, kH, kW)\n",
    "    return F.conv2d(x, W, stride=stride, padding=1)\n",
    "\n",
    "# Define Convolutional Neural Network\n",
    "class LeNet(nn.Module):\n",
    "    def __init__(self, in_features=28*28, n_classes=10):\n",
    "        super(LeNet, self).__init__()\n",
    "        '''\n",
    "        your code here\n",
    "        '''\n",
    "        self.conv1 = nn.Sequential(\n",
    "            nn.Conv2d(in_channels=1, out_channels=6, kernel_size=5, stride=1, padding=1, bias=True),\n",
    "            nn.ReLU(),\n",
    "            nn.MaxPool2d(2,2)\n",
    "        )\n",
    "        self.conv2 = nn.Sequential(\n",
    "            nn.Conv2d(in_channels=6, out_channels=16, kernel_size=5, stride=1, padding=1, bias=True),\n",
    "            nn.ReLU(),\n",
    "            nn.MaxPool2d(2,2)\n",
    "        )\n",
    "        self.fc1 = nn.Sequential(\n",
    "            nn.Linear(400, 120, bias=True),\n",
    "            nn.ReLU()\n",
    "        )\n",
    "        self.fc2 = nn.Sequential(\n",
    "            nn.Linear(120, 84, bias=True),\n",
    "            nn.ReLU()\n",
    "        )\n",
    "        self.final = nn.Sequential(\n",
    "            nn.Linear(84, 10, bias=True)\n",
    "        )\n",
    "        \n",
    "    def forward(self, x):\n",
    "        '''\n",
    "        your code here\n",
    "        '''\n",
    "        cv1 = self.conv1(x)\n",
    "        cv2 = self.conv2(cv1)\n",
    "        cv2 = cv2.view(list(cv2.size())[0], -1)\n",
    "        fcl1 = self.fc1(cv2)\n",
    "        fcl2 = self.fc2(fcl1)\n",
    "        self.y = self.final(fcl2)\n",
    "        return self.y\n",
    "        \n",
    "    #Determine the number of features in a batch of tensors\n",
    "    def num_flat_features(self, x):\n",
    "        size = x.size()[1:]\n",
    "        return np.prod(size)\n",
    "\n",
    "cnnClassifer = PTClassifier(LeNet)\n",
    "cnnClassifer.train(trainData, trainLabels, testData, testLabels, epochs=10)"
   ]
  },
  {
   "cell_type": "code",
   "execution_count": 18,
   "metadata": {},
   "outputs": [
    {
     "data": {
      "image/png": "[encoded data removed]",
      "text/plain": [
       "<Figure size 1008x432 with 1 Axes>"
      ]
     },
     "metadata": {
      "needs_background": "light"
     },
     "output_type": "display_data"
    },
    {
     "name": "stdout",
     "output_type": "stream",
     "text": [
      "[[0.98 0.   0.   0.   0.   0.   0.01 0.   0.   0.  ]\n",
      " [0.   0.99 0.   0.   0.   0.   0.   0.   0.   0.  ]\n",
      " [0.   0.   0.99 0.   0.   0.   0.   0.01 0.   0.  ]\n",
      " [0.   0.   0.   0.98 0.   0.01 0.   0.   0.   0.01]\n",
      " [0.   0.   0.   0.   0.98 0.   0.   0.   0.   0.01]\n",
      " [0.   0.   0.   0.   0.   0.99 0.   0.   0.   0.  ]\n",
      " [0.   0.   0.   0.   0.   0.   0.99 0.   0.   0.  ]\n",
      " [0.   0.   0.   0.   0.   0.   0.   0.98 0.   0.01]\n",
      " [0.   0.   0.   0.   0.   0.   0.   0.   0.99 0.  ]\n",
      " [0.   0.   0.   0.   0.   0.   0.   0.   0.   1.  ]]\n",
      "cnn acc: 0.987700\n"
     ]
    }
   ],
   "source": [
    "# Confusion Matrix and Accuracy\n",
    "'''\n",
    "your code here\n",
    "'''\n",
    "M, acc = Confusion(testData, testLabels, cnnClassifer)\n",
    "VisualizeConfusion(M)\n",
    "print('cnn acc: %f' %acc)"
   ]
  },
  {
   "cell_type": "markdown",
   "metadata": {},
   "source": [
    "* Note that the MLP/ConvNet approaches lead to an accuracy a little higher than the K-NN approach. \n",
    "* In general, neural net approaches lead to a significant increase in accuracy, but in this case the problem is not too hard, so the increase in accuracy will not be very high.\n",
    "* However, this is still quite significant considering the fact that the ConvNets we've used are relatively simple while the accuracy achieved using K-NN is with a search over 60,000 training images for every test image.\n",
    "* You can look at the performance of various machine learning methods on this problem at http://yann.lecun.com/exdb/mnist/\n",
    "* You can learn more about PyTorch at https://pytorch.org/tutorials/index.html\n",
    "* You can find another image classifier training example at https://pytorch.org/tutorials/beginner/blitz/cifar10_tutorial.html#sphx-glr-beginner-blitz-cifar10-tutorial-py\n",
    "* You can play with a demo of neural network created by Daniel Smilkov and Shan Carter at https://playground.tensorflow.org/"
   ]
  },
  {
   "cell_type": "code",
   "execution_count": null,
   "metadata": {},
   "outputs": [],
   "source": []
  }
 ],
 "metadata": {
  "kernelspec": {
   "display_name": "Python 3",
   "language": "python",
   "name": "python3"
  },
  "language_info": {
   "codemirror_mode": {
    "name": "ipython",
    "version": 3
   },
   "file_extension": ".py",
   "mimetype": "text/x-python",
   "name": "python",
   "nbconvert_exporter": "python",
   "pygments_lexer": "ipython3",
   "version": "3.7.4"
  }
 },
 "nbformat": 4,
 "nbformat_minor": 2
}
